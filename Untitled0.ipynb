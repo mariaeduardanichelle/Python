{
  "nbformat": 4,
  "nbformat_minor": 0,
  "metadata": {
    "colab": {
      "name": "Untitled0.ipynb",
      "provenance": [],
      "collapsed_sections": []
    },
    "kernelspec": {
      "name": "python3",
      "display_name": "Python 3"
    },
    "language_info": {
      "name": "python"
    }
  },
  "cells": [
    {
      "cell_type": "markdown",
      "source": [
        "**O governador acaba de liberar R$ 1.000.000.000,00 para construção de casas\n",
        "populares. Cada casa custa o equivalente a 90 salários mínimos. Faça um algoritmo\n",
        "que leia o valor do salário mínimo e calcule a quantidade de casas que podem ser\n",
        "construídas com o recurso liberado.**"
      ],
      "metadata": {
        "id": "GGMz1NYmtSpj"
      }
    },
    {
      "cell_type": "code",
      "execution_count": null,
      "metadata": {
        "id": "c_NKS4CPszY-",
        "colab": {
          "base_uri": "https://localhost:8080/"
        },
        "outputId": "ea89d219-f193-4d89-e0ce-3edf41e88988"
      },
      "outputs": [
        {
          "output_type": "stream",
          "name": "stdout",
          "text": [
            "Informe o valor do salário mínimo: 1000\n",
            "Será possível construir  11111  casas.\n"
          ]
        }
      ],
      "source": [
        "  salariomin = float(input(\"Informe o valor do salário mínimo: \"))\n",
        "  numcasas = round(1000000000 / (salariomin * 90))\n",
        "  print(\"Será possível construir \", numcasas, \" casas.\")"
      ]
    },
    {
      "cell_type": "markdown",
      "source": [
        "**Faça um algoritmo que leia o salário bruto mensal de um funcionário, calcule e\n",
        "mostre os valores conforme modelo abaixo:\n",
        "Salário Bruto :R$\n",
        "(-) IR (15%) :R$\n",
        "(-) INSS (11%) :R$\n",
        "(-) Sindicato (3%) :R$\n",
        "Salário Líquido :R$**"
      ],
      "metadata": {
        "id": "ILgBb7CwuUa7"
      }
    },
    {
      "cell_type": "code",
      "source": [
        "salariobruto = float(input(\"Informe o seu salário: \"))\n",
        "salarioir = salariobruto * 0.15\n",
        "inss = salariobruto * 0.11\n",
        "sindicato = salariobruto * 0.3\n",
        "salarioliquido = salariobruto - salarioir - inss - sindicato\n",
        "print (\"Salário Bruto: \", salariobruto, \"\\n\", \"IR: \", salarioir, \"\\n\", inss, \"\\n\", sindicato, \"\\n\", salarioliquido, \"\\n\" ) \n",
        "\n"
      ],
      "metadata": {
        "id": "y8MLetLxumsa"
      },
      "execution_count": null,
      "outputs": []
    },
    {
      "cell_type": "markdown",
      "source": [
        "**Faça um algoritmo que leia uma temperatura em graus Fahrenheit e converta e\n",
        "mostre em graus Centígrados.\n",
        "FÓRMULA: Centigrados = (Fahrenheit – 32) * 5 / 9**"
      ],
      "metadata": {
        "id": "1OHMDBezytl8"
      }
    },
    {
      "cell_type": "code",
      "source": [
        "tempfahrenheit = float(input(\"Informe a temperatura em fahrenheit: \"))\n",
        "tempcel = round((tempfahrenheit - 32)*5/9, 2)\n",
        "print(\"Em centígrados é: \", tempcel, \"°C.\")"
      ],
      "metadata": {
        "id": "WacvpLy_y_AZ"
      },
      "execution_count": null,
      "outputs": []
    },
    {
      "cell_type": "markdown",
      "source": [
        "**Faça um algoritmo que calcule o volume de uma lata de óleo. Escreva o resultado.\n",
        "FÓRMULA: volume = pi * raio2 * altura**"
      ],
      "metadata": {
        "id": "XdyY6o1l0YVY"
      }
    },
    {
      "cell_type": "code",
      "source": [
        "raio = float(input(\"Informe o raio: \"))\n",
        "altura = float(input(\"Informe o altura: \"))\n",
        "volumelata = (3.14 * raio**2 * altura)\n",
        "print (\"O volume é:\", volumelata,)"
      ],
      "metadata": {
        "id": "-_A6WrbT0iHq"
      },
      "execution_count": null,
      "outputs": []
    },
    {
      "cell_type": "markdown",
      "source": [
        "**Faça um algoritmo que leia uma certa quantidade de chuva em polegadas e escreva\n",
        "o equivalente em milímetros.\n",
        "FÓRMULA: 25.4 mm = 1 polegada**"
      ],
      "metadata": {
        "id": "yceHDDZI2Xnt"
      }
    },
    {
      "cell_type": "code",
      "source": [
        "polegadas = float(input(\"Insira a quantidade de chuva em polegadas: \"))\n",
        "milimetros = polegadas * 25.4\n",
        "print(\"Em milimetros, a chuva é:\", milimetros, \"mm.\")"
      ],
      "metadata": {
        "id": "jWnGoZt62fsc"
      },
      "execution_count": null,
      "outputs": []
    },
    {
      "cell_type": "markdown",
      "source": [
        "**Faça um algoritmo que leia as 3 notas de um aluno e calcule e escreva a média final\n",
        "deste aluno. Considerar que a média é ponderada e que o peso das notas é: 2,3 e 5,\n",
        "respectivamente.**"
      ],
      "metadata": {
        "id": "JxuIV9Fc3jrU"
      }
    },
    {
      "cell_type": "code",
      "source": [
        "nota1 = float(input(\"Informe nota 1: \"))\n",
        "nota2 = float(input(\"Informe nota 2: \"))\n",
        "nota3 = float(input(\"Informe nota 3: \"))\n",
        "notafinal = nota1 * 0.2 + nota2 * 0.3 + nota3 * 0.5\n",
        "print (\"A média final é:\", notafinal)"
      ],
      "metadata": {
        "id": "18UXxVGK35X5"
      },
      "execution_count": null,
      "outputs": []
    },
    {
      "cell_type": "markdown",
      "source": [
        "**Faça um algoritmo que leia a idade de uma pessoa expressa em dias e mostre-a\n",
        "expressa em anos, meses e dias.**"
      ],
      "metadata": {
        "id": "XHXZDEL75OPI"
      }
    },
    {
      "cell_type": "code",
      "source": [
        "idadedias = float(input(\"Informe sua idade em dias: \"))\n",
        "anos = idadedias/365\n",
        "meses = anos * 12\n",
        "print(\"Sua idade em anos é:\", anos, \"\\n\", \"Em meses é:\", meses, \"\\n\", \"Em dias é:\", idadedias)"
      ],
      "metadata": {
        "id": "wfUj6bwu5Qf3"
      },
      "execution_count": null,
      "outputs": []
    },
    {
      "cell_type": "markdown",
      "source": [
        "**O custo ao consumidor de um carro novo é a soma do custo de fábrica com a\n",
        "percentagem do distribuidor e dos impostos (aplicados ao custo de fábrica).\n",
        "Supondo que a percentagem do distribuidor seja de 28% e os impostos de 45%,\n",
        "escrever um algoritmo que leia o custo de fábrica de um carro e escreva o custo ao\n",
        "consumidor.**"
      ],
      "metadata": {
        "id": "LrLPDbbm6ix6"
      }
    },
    {
      "cell_type": "code",
      "source": [
        "custofab = float(input(\"Informe o preço: \" ))\n",
        "distri = custofab * 0.28 \n",
        "impostos = custofab * 0.45\n",
        "fabcusto = custofab - distri - impostos\n",
        "print (\"O custo de fábrica do carro é: R$\", fabcusto)"
      ],
      "metadata": {
        "id": "Z-ei3ti86zzD",
        "colab": {
          "base_uri": "https://localhost:8080/"
        },
        "outputId": "8e7fe0f4-2c39-4e61-dee2-0a7bad6273a8"
      },
      "execution_count": null,
      "outputs": [
        {
          "output_type": "stream",
          "name": "stdout",
          "text": [
            "Informe o preço: 50000\n",
            "O custo de fábrica do carro é: R$ 13500.0\n"
          ]
        }
      ]
    }
  ]
}